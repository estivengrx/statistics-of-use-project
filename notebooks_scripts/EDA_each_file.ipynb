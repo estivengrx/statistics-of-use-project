{
 "cells": [
  {
   "cell_type": "markdown",
   "metadata": {},
   "source": [
    "# Important information about this EDA, (Exploratory Data Analysis)\n",
    "Exploring the files in the 'data/processed/' directory<br>\n",
    "\n",
    "**Please note:** The analysis will be divided into four distinct sections, each addressing different files, as outlined below::\n",
    "- App usage in the phone, (Files: 'app_usage_count_motorola.csv' and 'app_usage_time_motorola.csv')\n",
    "- Device unlocks analysis, (Files: 'device_unlocks_motorola.csv')\n",
    "- Web usage count, (Files: 'web_usage_count_chrome.csv', 'web_usage_count_edge.csv', 'web_usage_count_motorola.csv')\n",
    "- Web usage time, (Files: 'web_usage_time_chrome.csv', 'web_usage_time_edge.csv', 'web_usage_time_motorola.csv')"
   ]
  },
  {
   "cell_type": "code",
   "execution_count": 10,
   "metadata": {},
   "outputs": [],
   "source": [
    "import pandas as pd\n",
    "import numpy as np\n",
    "import matplotlib.pyplot as plt\n",
    "import seaborn as sns\n",
    "\n",
    "from sqlalchemy import create_engine"
   ]
  },
  {
   "cell_type": "markdown",
   "metadata": {},
   "source": [
    "# Exploratory Data Analysis"
   ]
  },
  {
   "cell_type": "markdown",
   "metadata": {},
   "source": [
    "## App usage in the phone"
   ]
  },
  {
   "cell_type": "markdown",
   "metadata": {},
   "source": [
    "Connection to the sql server database"
   ]
  },
  {
   "cell_type": "code",
   "execution_count": null,
   "metadata": {},
   "outputs": [],
   "source": [
    "def read_from_sql_database(server, database, username, password, driver, queries):\n",
    "    # Creating the SQLAlchemy connection\n",
    "    connection_string = f\"mssql+pyodbc://{username}:{password}@{server}/{database}?driver={driver}\"\n",
    "    engine = create_engine(connection_string)\n",
    "    dataframes = {}\n",
    "    for query in queries:\n",
    "        dataframes[query.split()[-1]] = pd.read_sql(query, engine, parse_dates=['date'])\n",
    "        \n",
    "    return dataframes\n",
    "\n",
    "# Connection parameters\n",
    "server = 'DESKTOP-8PK64UI'\n",
    "database = 'statistics_of_use_db'\n",
    "username = 'main_estiven'\n",
    "driver = 'ODBC+Driver+17+for+SQL+Server'\n",
    "\n",
    "password_file_path = \"database_pass.txt\"\n",
    "with open(password_file_path, \"r\") as file:\n",
    "    password = file.read().strip()"
   ]
  },
  {
   "cell_type": "markdown",
   "metadata": {},
   "source": [
    "Reading the files for App usage in the phone"
   ]
  },
  {
   "cell_type": "code",
   "execution_count": 25,
   "metadata": {},
   "outputs": [],
   "source": [
    "sql_queries = [\"SELECT * FROM app_usage_count_motorola\", \"SELECT * FROM app_usage_time_motorola\"]\n",
    "result_df = read_from_sql_database(server, database, username, password, driver, sql_queries)\n",
    "\n",
    "app_count_motorola = result_df['app_usage_count_motorola']\n",
    "app_time_motorola = result_df['app_usage_time_motorola']"
   ]
  },
  {
   "cell_type": "code",
   "execution_count": null,
   "metadata": {},
   "outputs": [],
   "source": []
  }
 ],
 "metadata": {
  "kernelspec": {
   "display_name": "statistics_of_use_env",
   "language": "python",
   "name": "python3"
  },
  "language_info": {
   "codemirror_mode": {
    "name": "ipython",
    "version": 3
   },
   "file_extension": ".py",
   "mimetype": "text/x-python",
   "name": "python",
   "nbconvert_exporter": "python",
   "pygments_lexer": "ipython3",
   "version": "3.11.2"
  },
  "orig_nbformat": 4
 },
 "nbformat": 4,
 "nbformat_minor": 2
}
