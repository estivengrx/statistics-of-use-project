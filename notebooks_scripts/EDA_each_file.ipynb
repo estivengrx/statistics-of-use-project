{
 "cells": [
  {
   "cell_type": "markdown",
   "metadata": {},
   "source": [
    "# Important information about this EDA, (Exploratory Data Analysis)\n",
    "Exploring the files in the 'data/processed/' directory<br>\n",
    "\n",
    "**Please note:** The analysis will be divided into four distinct sections, each addressing different files, as outlined below::\n",
    "- App usage in the phone, (Files: 'app_usage_count_motorola.csv' and 'app_usage_time_motorola.csv')\n",
    "- Device unlocks analysis, (Files: 'device_unlocks_motorola.csv')\n",
    "- Web usage count, (Files: 'web_usage_count_chrome.csv', 'web_usage_count_edge.csv', 'web_usage_count_motorola.csv')\n",
    "- Web usage time, (Files: 'web_usage_time_chrome.csv', 'web_usage_time_edge.csv', 'web_usage_time_motorola.csv')"
   ]
  },
  {
   "cell_type": "markdown",
   "metadata": {},
   "source": [
    "*App usage time* and *Web usage time* files have every column except the date to be in minutes."
   ]
  },
  {
   "cell_type": "code",
   "execution_count": 26,
   "metadata": {},
   "outputs": [],
   "source": [
    "import pandas as pd\n",
    "import numpy as np\n",
    "import matplotlib.pyplot as plt\n",
    "import seaborn as sns\n",
    "\n",
    "from sqlalchemy import create_engine\n",
    "\n",
    "pd.set_option('display.max_rows', 500)\n",
    "pd.set_option('display.max_columns', 500)\n",
    "pd.set_option('display.width', 1000)\n",
    "\n",
    "sns.set(style=\"whitegrid\")"
   ]
  },
  {
   "cell_type": "markdown",
   "metadata": {},
   "source": [
    "# Exploratory Data Analysis"
   ]
  },
  {
   "cell_type": "markdown",
   "metadata": {},
   "source": [
    "## App usage in the phone"
   ]
  },
  {
   "cell_type": "markdown",
   "metadata": {},
   "source": [
    "Connection to the sql server database"
   ]
  },
  {
   "cell_type": "code",
   "execution_count": 27,
   "metadata": {},
   "outputs": [],
   "source": [
    "def read_from_sql_database(server, database, username, password, driver, queries):\n",
    "    # Creating the SQLAlchemy connection\n",
    "    connection_string = f\"mssql+pyodbc://{username}:{password}@{server}/{database}?driver={driver}\"\n",
    "    engine = create_engine(connection_string)\n",
    "    dataframes = {}\n",
    "    for query in queries:\n",
    "        dataframes[query.split()[-1]] = pd.read_sql(query, engine, parse_dates=['date'])\n",
    "        \n",
    "    return dataframes\n",
    "\n",
    "# Connection parameters\n",
    "server = 'DESKTOP-8PK64UI'\n",
    "database = 'statistics_of_use_db'\n",
    "username = 'main_estiven'\n",
    "driver = 'ODBC+Driver+17+for+SQL+Server'\n",
    "\n",
    "password_file_path = \"database_pass.txt\"\n",
    "with open(password_file_path, \"r\") as file:\n",
    "    password = file.read().strip()"
   ]
  },
  {
   "cell_type": "markdown",
   "metadata": {},
   "source": [
    "Reading the files for App usage in the phone"
   ]
  },
  {
   "cell_type": "code",
   "execution_count": 28,
   "metadata": {},
   "outputs": [],
   "source": [
    "sql_queries = [\"SELECT * FROM app_usage_count_motorola\", \"SELECT * FROM app_usage_time_motorola\", \n",
    "               \"SELECT * FROM web_usage_time_edge\", \"SELECT * FROM device_unlocks_motorola\"]\n",
    "result_df = read_from_sql_database(server, database, username, password, driver, sql_queries)\n",
    "\n",
    "app_count_motorola = result_df['app_usage_count_motorola']\n",
    "app_time_motorola = result_df['app_usage_time_motorola']\n",
    "web_time_edge = result_df['web_usage_time_edge']\n",
    "device_unlocks = result_df['device_unlocks_motorola']\n",
    "\n",
    "count_columns = list(app_count_motorola.columns)\n",
    "time_columns = list(app_time_motorola.columns)"
   ]
  },
  {
   "cell_type": "markdown",
   "metadata": {},
   "source": [
    "Overview of the datasets"
   ]
  },
  {
   "cell_type": "code",
   "execution_count": 29,
   "metadata": {},
   "outputs": [
    {
     "name": "stdout",
     "output_type": "stream",
     "text": [
      "App count motorola:\n",
      "        date  amazon_shopping  android_system  calculator  calendar  camera  chrome  classroom  clock  discord  drive  files  gmail  google  google_news  google_opinion_rewards  google_play_services  google_play_store  instagram  linkedin  maps  medium  mi_tigo  microsoft_365_(office)  moto_app_launcher  nequi_colombia  notion  package_installer  photomath  photos  settings  siata  simcity  spotify  stellarium  symbolab  system_ui  tasks  teams  telegram  tiktok  truecaller  twitter  tyba  upwork_talent  whatsapp  youtube  youtube_music  zoom  total_usage  call_of_duty  chatgpt  cívica  clash_of_clans  didi  hbo_max  rappi\n",
      "0 2022-10-19              0.0             1.0         5.0       3.0     0.0    24.0        5.0    8.0      0.0   11.0    2.0    4.0     0.0          4.0                     2.0                   1.0                0.0       33.0       0.0   0.0     0.0      0.0                     0.0              247.0             0.0     0.0                0.0        0.0     0.0       8.0    0.0      0.0     16.0         0.0       0.0        0.0    0.0    0.0       0.0    19.0         0.0      0.0   0.0            0.0     102.0      0.0            0.0   0.0        495.0           0.0      0.0     0.0             0.0   0.0      0.0    0.0\n",
      "\n",
      "App count motorola:\n",
      "        date  amazon_shopping  calculator  calendar  chrome  clock  com.activision.callofduty.shooter  discord  drive  gmail  google  google_news  google_play_store  hbo_max  instagram  linkedin  maps  medium  mi_tigo  microsoft_365_(office)  moto_app_launcher  nequi_colombia  notion  photomath  photos  settings  simcity  spotify  symbolab  tasks  teams  telegram  tiktok  truecaller  twitter  tyba  upwork_talent  whatsapp  youtube  youtube_music  zoom  total_usage  call_of_duty  camera  cívica  clash_of_clans  didi  rappi  reddit\n",
      "0 2022-10-19              0.0        3.02       1.5   17.48   1.75                                0.0      0.0  55.68   1.92     0.0         2.85                0.0      0.0       50.3       0.0   0.0     0.0      0.0                     0.0              12.78             0.0     0.0        0.0     0.0      2.25      0.0    10.28       0.0    0.0    0.0       0.0   37.42         0.0      0.0   0.0            0.0      73.1      0.0            0.0   0.0       270.33           0.0     0.0     0.0             0.0   0.0    0.0     0.0\n",
      "\n",
      "Web time edge:\n",
      "        date  bing.com  chat.openai.com  colab.research.google.com  coursera.org  docs.google.com  drive.google.com  github.com  instagram.com  kaggle.com  learn.deeplearning.ai  mail.google.com  meet.google.com  netflix.com  udeaeduco-my.sharepoint.com  upwork.com  web.whatsapp.com  wolframalpha.com  youtube.com  total_usage  classroom.google.com  es.symbolab.com  freelancer.com.co  google.com  hbomax.com  linkedin.com  overleaf.com  photos.google.com  portals.wetransfer.com  primevideo.com  rutan-medellin.udemy.com  stackoverflow.com  udea.edu.co  whatsapp.com\n",
      "0 2022-10-28       0.0              0.0                        0.0           0.0              0.0               0.0         0.0            0.0         0.0                    0.0              0.0              0.0          0.0                          0.0         0.0               0.0               0.0          0.0          0.0                   0.0              0.0                0.0         0.0         0.0           0.0           0.0                0.0                     0.0             0.0                       0.0                0.0          0.0           0.0\n",
      "\n",
      "Device unlocks:\n",
      "        date  device_unlocks\n",
      "0 2022-10-19           146.0\n",
      "\n"
     ]
    }
   ],
   "source": [
    "print(f'App count motorola:\\n{app_count_motorola.head(1)}\\n')\n",
    "print(f'App count motorola:\\n{app_time_motorola.head(1)}\\n')\n",
    "print(f'Web time edge:\\n{web_time_edge.head(1)}\\n')\n",
    "print(f'Device unlocks:\\n{device_unlocks.head(1)}\\n')"
   ]
  },
  {
   "cell_type": "code",
   "execution_count": 30,
   "metadata": {},
   "outputs": [
    {
     "name": "stdout",
     "output_type": "stream",
     "text": [
      "Shape of the motorola time usage dataframe, (ORIGINAL): (447, 49)\n",
      "Shape of the motorola count usage dataframe, (ORIGINAL): (447, 57)\n",
      "Shape of the edge time usage dataframe, (ORIGINAL): (237, 34)\n",
      "Shape of the motorola unlocks dataframe, (ORIGINAL): (447, 2)\n",
      "\n"
     ]
    }
   ],
   "source": [
    "print(f'Shape of the motorola time usage dataframe, (ORIGINAL): {app_time_motorola.shape}\\n\\\n",
    "Shape of the motorola count usage dataframe, (ORIGINAL): {app_count_motorola.shape}\\n\\\n",
    "Shape of the edge time usage dataframe, (ORIGINAL): {web_time_edge.shape}\\n\\\n",
    "Shape of the motorola unlocks dataframe, (ORIGINAL): {device_unlocks.shape}\\n')"
   ]
  },
  {
   "cell_type": "markdown",
   "metadata": {},
   "source": [
    "## Data transformation and cleaning"
   ]
  },
  {
   "cell_type": "code",
   "execution_count": 33,
   "metadata": {},
   "outputs": [],
   "source": [
    "def percentage_of_zeros(dataframe: pd.DataFrame, dataframe_column: str) -> float:\n",
    "    \"\"\"\n",
    "    Calculate the percentage of zero values in a specific column of a pandas DataFrame.\n",
    "\n",
    "    Parameters:\n",
    "    dataframe (pd.DataFrame): The DataFrame containing the data.\n",
    "    dataframe_column (str): The column name for which the percentage of zero values should be calculated.\n",
    "\n",
    "    Returns:\n",
    "    float: The percentage of zero values in the specified column, rounded to two decimal places.\n",
    "\n",
    "    Example:\n",
    "    >>> import pandas as pd\n",
    "    >>> data = {'column_A': [0, 0, 3, 0, 5, 0, 0]}\n",
    "    >>> df = pd.DataFrame(data)\n",
    "    >>> percentage = percentage_of_zeros(df, 'column_A')\n",
    "    >>> print(percentage)\n",
    "    71.43\n",
    "    \"\"\"\n",
    "    percentage_zeros = (dataframe[dataframe_column] == 0).astype(int).sum(axis=0) / dataframe.shape[0]\n",
    "    return round(percentage_zeros * 100, 2)"
   ]
  },
  {
   "cell_type": "markdown",
   "metadata": {},
   "source": [
    "Filtering the data so there are not too much zeros"
   ]
  },
  {
   "cell_type": "code",
   "execution_count": 34,
   "metadata": {},
   "outputs": [
    {
     "data": {
      "text/html": [
       "<div>\n",
       "<style scoped>\n",
       "    .dataframe tbody tr th:only-of-type {\n",
       "        vertical-align: middle;\n",
       "    }\n",
       "\n",
       "    .dataframe tbody tr th {\n",
       "        vertical-align: top;\n",
       "    }\n",
       "\n",
       "    .dataframe thead th {\n",
       "        text-align: right;\n",
       "    }\n",
       "</style>\n",
       "<table border=\"1\" class=\"dataframe\">\n",
       "  <thead>\n",
       "    <tr style=\"text-align: right;\">\n",
       "      <th></th>\n",
       "      <th>date</th>\n",
       "      <th>calculator</th>\n",
       "      <th>chrome</th>\n",
       "      <th>clock</th>\n",
       "      <th>drive</th>\n",
       "      <th>gmail</th>\n",
       "      <th>google</th>\n",
       "      <th>google_play_store</th>\n",
       "      <th>instagram</th>\n",
       "      <th>linkedin</th>\n",
       "      <th>maps</th>\n",
       "      <th>mi_tigo</th>\n",
       "      <th>microsoft_365_(office)</th>\n",
       "      <th>moto_app_launcher</th>\n",
       "      <th>nequi_colombia</th>\n",
       "      <th>photos</th>\n",
       "      <th>settings</th>\n",
       "      <th>spotify</th>\n",
       "      <th>tasks</th>\n",
       "      <th>truecaller</th>\n",
       "      <th>twitter</th>\n",
       "      <th>whatsapp</th>\n",
       "      <th>youtube</th>\n",
       "      <th>total_usage</th>\n",
       "      <th>camera</th>\n",
       "    </tr>\n",
       "  </thead>\n",
       "  <tbody>\n",
       "    <tr>\n",
       "      <th>0</th>\n",
       "      <td>2022-10-19</td>\n",
       "      <td>3.02</td>\n",
       "      <td>17.48</td>\n",
       "      <td>1.75</td>\n",
       "      <td>55.68</td>\n",
       "      <td>1.92</td>\n",
       "      <td>0.00</td>\n",
       "      <td>0.00</td>\n",
       "      <td>50.30</td>\n",
       "      <td>0.00</td>\n",
       "      <td>0.00</td>\n",
       "      <td>0.00</td>\n",
       "      <td>0.0</td>\n",
       "      <td>12.78</td>\n",
       "      <td>0.0</td>\n",
       "      <td>0.00</td>\n",
       "      <td>2.25</td>\n",
       "      <td>10.28</td>\n",
       "      <td>0.0</td>\n",
       "      <td>0.00</td>\n",
       "      <td>0.0</td>\n",
       "      <td>73.10</td>\n",
       "      <td>0.00</td>\n",
       "      <td>270.33</td>\n",
       "      <td>0.0</td>\n",
       "    </tr>\n",
       "    <tr>\n",
       "      <th>1</th>\n",
       "      <td>2022-10-20</td>\n",
       "      <td>1.57</td>\n",
       "      <td>5.28</td>\n",
       "      <td>0.90</td>\n",
       "      <td>11.72</td>\n",
       "      <td>0.00</td>\n",
       "      <td>0.00</td>\n",
       "      <td>0.00</td>\n",
       "      <td>46.17</td>\n",
       "      <td>0.00</td>\n",
       "      <td>1.15</td>\n",
       "      <td>0.00</td>\n",
       "      <td>0.0</td>\n",
       "      <td>11.62</td>\n",
       "      <td>0.0</td>\n",
       "      <td>0.00</td>\n",
       "      <td>3.30</td>\n",
       "      <td>2.78</td>\n",
       "      <td>0.0</td>\n",
       "      <td>0.02</td>\n",
       "      <td>0.0</td>\n",
       "      <td>61.83</td>\n",
       "      <td>12.98</td>\n",
       "      <td>265.90</td>\n",
       "      <td>0.0</td>\n",
       "    </tr>\n",
       "    <tr>\n",
       "      <th>2</th>\n",
       "      <td>2022-10-21</td>\n",
       "      <td>0.00</td>\n",
       "      <td>1.37</td>\n",
       "      <td>0.68</td>\n",
       "      <td>1.55</td>\n",
       "      <td>6.32</td>\n",
       "      <td>0.00</td>\n",
       "      <td>0.08</td>\n",
       "      <td>40.90</td>\n",
       "      <td>0.00</td>\n",
       "      <td>0.80</td>\n",
       "      <td>1.18</td>\n",
       "      <td>0.0</td>\n",
       "      <td>7.90</td>\n",
       "      <td>0.0</td>\n",
       "      <td>0.67</td>\n",
       "      <td>0.85</td>\n",
       "      <td>0.00</td>\n",
       "      <td>0.0</td>\n",
       "      <td>0.35</td>\n",
       "      <td>0.0</td>\n",
       "      <td>62.60</td>\n",
       "      <td>0.00</td>\n",
       "      <td>239.60</td>\n",
       "      <td>0.0</td>\n",
       "    </tr>\n",
       "    <tr>\n",
       "      <th>3</th>\n",
       "      <td>2022-10-22</td>\n",
       "      <td>0.00</td>\n",
       "      <td>1.98</td>\n",
       "      <td>0.00</td>\n",
       "      <td>0.00</td>\n",
       "      <td>1.72</td>\n",
       "      <td>0.13</td>\n",
       "      <td>2.23</td>\n",
       "      <td>69.20</td>\n",
       "      <td>0.03</td>\n",
       "      <td>0.00</td>\n",
       "      <td>0.00</td>\n",
       "      <td>0.0</td>\n",
       "      <td>10.12</td>\n",
       "      <td>0.0</td>\n",
       "      <td>52.60</td>\n",
       "      <td>0.15</td>\n",
       "      <td>0.00</td>\n",
       "      <td>0.0</td>\n",
       "      <td>0.00</td>\n",
       "      <td>0.0</td>\n",
       "      <td>113.32</td>\n",
       "      <td>33.82</td>\n",
       "      <td>373.78</td>\n",
       "      <td>0.0</td>\n",
       "    </tr>\n",
       "    <tr>\n",
       "      <th>4</th>\n",
       "      <td>2022-10-23</td>\n",
       "      <td>0.52</td>\n",
       "      <td>5.80</td>\n",
       "      <td>1.43</td>\n",
       "      <td>0.00</td>\n",
       "      <td>5.58</td>\n",
       "      <td>0.00</td>\n",
       "      <td>0.15</td>\n",
       "      <td>41.65</td>\n",
       "      <td>0.00</td>\n",
       "      <td>0.13</td>\n",
       "      <td>0.00</td>\n",
       "      <td>0.0</td>\n",
       "      <td>10.70</td>\n",
       "      <td>0.0</td>\n",
       "      <td>5.12</td>\n",
       "      <td>0.52</td>\n",
       "      <td>0.00</td>\n",
       "      <td>0.0</td>\n",
       "      <td>0.07</td>\n",
       "      <td>0.0</td>\n",
       "      <td>50.78</td>\n",
       "      <td>95.12</td>\n",
       "      <td>452.84</td>\n",
       "      <td>0.0</td>\n",
       "    </tr>\n",
       "  </tbody>\n",
       "</table>\n",
       "</div>"
      ],
      "text/plain": [
       "        date  calculator  chrome  clock  drive  gmail  google  google_play_store  instagram  linkedin  maps  mi_tigo  microsoft_365_(office)  moto_app_launcher  nequi_colombia  photos  settings  spotify  tasks  truecaller  twitter  whatsapp  youtube  total_usage  camera\n",
       "0 2022-10-19        3.02   17.48   1.75  55.68   1.92    0.00               0.00      50.30      0.00  0.00     0.00                     0.0              12.78             0.0    0.00      2.25    10.28    0.0        0.00      0.0     73.10     0.00       270.33     0.0\n",
       "1 2022-10-20        1.57    5.28   0.90  11.72   0.00    0.00               0.00      46.17      0.00  1.15     0.00                     0.0              11.62             0.0    0.00      3.30     2.78    0.0        0.02      0.0     61.83    12.98       265.90     0.0\n",
       "2 2022-10-21        0.00    1.37   0.68   1.55   6.32    0.00               0.08      40.90      0.00  0.80     1.18                     0.0               7.90             0.0    0.67      0.85     0.00    0.0        0.35      0.0     62.60     0.00       239.60     0.0\n",
       "3 2022-10-22        0.00    1.98   0.00   0.00   1.72    0.13               2.23      69.20      0.03  0.00     0.00                     0.0              10.12             0.0   52.60      0.15     0.00    0.0        0.00      0.0    113.32    33.82       373.78     0.0\n",
       "4 2022-10-23        0.52    5.80   1.43   0.00   5.58    0.00               0.15      41.65      0.00  0.13     0.00                     0.0              10.70             0.0    5.12      0.52     0.00    0.0        0.07      0.0     50.78    95.12       452.84     0.0"
      ]
     },
     "execution_count": 34,
     "metadata": {},
     "output_type": "execute_result"
    }
   ],
   "source": [
    "# Creating a dictionary of the column name and its percentage of zeros\n",
    "percentages_count = {}\n",
    "for column in app_count_motorola:\n",
    "    if column != 'date':\n",
    "        percentages_count[column] = percentage_of_zeros(app_count_motorola, column)\n",
    "\n",
    "# Filtering the data, columns with a percentage more than 70 of zeros will be dropped\n",
    "columns_too_much_zeros_count = [key for key, value in percentages_count.items() if value > 70]\n",
    "app_count_motorola = app_count_motorola.drop(columns=columns_too_much_zeros_count)\n",
    "\n",
    "# Same code but for time data\n",
    "percentages_time = {}\n",
    "for column in app_time_motorola:\n",
    "    if column != 'date':\n",
    "        percentages_time[column] = percentage_of_zeros(app_time_motorola, column)\n",
    "\n",
    "columns_too_much_zeros_time = [key for key, value in percentages_time.items() if value > 70]\n",
    "app_time_motorola = app_time_motorola.drop(columns=columns_too_much_zeros_time)\n",
    "app_time_motorola.head()"
   ]
  },
  {
   "cell_type": "code",
   "execution_count": 38,
   "metadata": {},
   "outputs": [
    {
     "name": "stdout",
     "output_type": "stream",
     "text": [
      "Shape of the motorola time usage dataframe: (447, 25)\n",
      "Shape of the motorola count usage dataframe: (447, 28)\n",
      "Shape of the edge time usage dataframe: (237, 34)\n",
      "Shape of the motorola unlocks dataframe: (447, 2)\n",
      "\n"
     ]
    }
   ],
   "source": [
    "print(f'Shape of the motorola time usage dataframe: {app_time_motorola.shape}\\n\\\n",
    "Shape of the motorola count usage dataframe: {app_count_motorola.shape}\\n\\\n",
    "Shape of the edge time usage dataframe: {web_time_edge.shape}\\n\\\n",
    "Shape of the motorola unlocks dataframe: {device_unlocks.shape}\\n')"
   ]
  },
  {
   "cell_type": "markdown",
   "metadata": {},
   "source": [
    "Top 5 most used applications in my phone and web browser Edge"
   ]
  },
  {
   "cell_type": "code",
   "execution_count": 40,
   "metadata": {},
   "outputs": [
    {
     "data": {
      "text/html": [
       "<div>\n",
       "<style scoped>\n",
       "    .dataframe tbody tr th:only-of-type {\n",
       "        vertical-align: middle;\n",
       "    }\n",
       "\n",
       "    .dataframe tbody tr th {\n",
       "        vertical-align: top;\n",
       "    }\n",
       "\n",
       "    .dataframe thead th {\n",
       "        text-align: right;\n",
       "    }\n",
       "</style>\n",
       "<table border=\"1\" class=\"dataframe\">\n",
       "  <thead>\n",
       "    <tr style=\"text-align: right;\">\n",
       "      <th></th>\n",
       "      <th>app_name</th>\n",
       "      <th>total_usage (hours)</th>\n",
       "    </tr>\n",
       "  </thead>\n",
       "  <tbody>\n",
       "    <tr>\n",
       "      <th>0</th>\n",
       "      <td>whatsapp</td>\n",
       "      <td>504.481417</td>\n",
       "    </tr>\n",
       "    <tr>\n",
       "      <th>1</th>\n",
       "      <td>instagram</td>\n",
       "      <td>402.175268</td>\n",
       "    </tr>\n",
       "    <tr>\n",
       "      <th>2</th>\n",
       "      <td>youtube</td>\n",
       "      <td>271.826402</td>\n",
       "    </tr>\n",
       "    <tr>\n",
       "      <th>3</th>\n",
       "      <td>chrome</td>\n",
       "      <td>93.963846</td>\n",
       "    </tr>\n",
       "    <tr>\n",
       "      <th>4</th>\n",
       "      <td>spotify</td>\n",
       "      <td>57.669958</td>\n",
       "    </tr>\n",
       "  </tbody>\n",
       "</table>\n",
       "</div>"
      ],
      "text/plain": [
       "    app_name  total_usage (hours)\n",
       "0   whatsapp           504.481417\n",
       "1  instagram           402.175268\n",
       "2    youtube           271.826402\n",
       "3     chrome            93.963846\n",
       "4    spotify            57.669958"
      ]
     },
     "execution_count": 40,
     "metadata": {},
     "output_type": "execute_result"
    }
   ],
   "source": [
    "most_used_apps_phone = app_time_motorola.loc[:, ~app_time_motorola.columns.isin(['date', 'total_usage'])].sum().sort_values(ascending=False)[:5] / 60\n",
    "most_used_apps_phone = pd.DataFrame(most_used_apps_phone, index=None, columns=['total_usage (hours)']).reset_index().rename({'index': 'app_name'}, axis=1)\n",
    "most_used_apps_phone"
   ]
  },
  {
   "cell_type": "code",
   "execution_count": 41,
   "metadata": {},
   "outputs": [
    {
     "data": {
      "text/html": [
       "<div>\n",
       "<style scoped>\n",
       "    .dataframe tbody tr th:only-of-type {\n",
       "        vertical-align: middle;\n",
       "    }\n",
       "\n",
       "    .dataframe tbody tr th {\n",
       "        vertical-align: top;\n",
       "    }\n",
       "\n",
       "    .dataframe thead th {\n",
       "        text-align: right;\n",
       "    }\n",
       "</style>\n",
       "<table border=\"1\" class=\"dataframe\">\n",
       "  <thead>\n",
       "    <tr style=\"text-align: right;\">\n",
       "      <th></th>\n",
       "      <th>app_name</th>\n",
       "      <th>total_usage (hours)</th>\n",
       "    </tr>\n",
       "  </thead>\n",
       "  <tbody>\n",
       "    <tr>\n",
       "      <th>0</th>\n",
       "      <td>youtube.com</td>\n",
       "      <td>369.812667</td>\n",
       "    </tr>\n",
       "    <tr>\n",
       "      <th>1</th>\n",
       "      <td>hbomax.com</td>\n",
       "      <td>52.381500</td>\n",
       "    </tr>\n",
       "    <tr>\n",
       "      <th>2</th>\n",
       "      <td>instagram.com</td>\n",
       "      <td>34.064167</td>\n",
       "    </tr>\n",
       "    <tr>\n",
       "      <th>3</th>\n",
       "      <td>chat.openai.com</td>\n",
       "      <td>32.186000</td>\n",
       "    </tr>\n",
       "    <tr>\n",
       "      <th>4</th>\n",
       "      <td>whatsapp.com</td>\n",
       "      <td>30.795833</td>\n",
       "    </tr>\n",
       "  </tbody>\n",
       "</table>\n",
       "</div>"
      ],
      "text/plain": [
       "          app_name  total_usage (hours)\n",
       "0      youtube.com           369.812667\n",
       "1       hbomax.com            52.381500\n",
       "2    instagram.com            34.064167\n",
       "3  chat.openai.com            32.186000\n",
       "4     whatsapp.com            30.795833"
      ]
     },
     "execution_count": 41,
     "metadata": {},
     "output_type": "execute_result"
    }
   ],
   "source": [
    "most_used_web_edge = web_time_edge.loc[:, ~web_time_edge.columns.isin(['date', 'total_usage'])].sum().sort_values(ascending=False)[:5] / 60\n",
    "most_used_web_edge = pd.DataFrame(most_used_web_edge, index=None, columns=['total_usage (hours)']).reset_index().rename({'index': 'app_name'}, axis=1)\n",
    "most_used_web_edge"
   ]
  }
 ],
 "metadata": {
  "kernelspec": {
   "display_name": "statistics_of_use_env",
   "language": "python",
   "name": "python3"
  },
  "language_info": {
   "codemirror_mode": {
    "name": "ipython",
    "version": 3
   },
   "file_extension": ".py",
   "mimetype": "text/x-python",
   "name": "python",
   "nbconvert_exporter": "python",
   "pygments_lexer": "ipython3",
   "version": "3.11.2"
  },
  "orig_nbformat": 4
 },
 "nbformat": 4,
 "nbformat_minor": 2
}
