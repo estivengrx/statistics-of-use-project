{
 "cells": [
  {
   "cell_type": "markdown",
   "metadata": {},
   "source": [
    "# Testing"
   ]
  },
  {
   "cell_type": "code",
   "execution_count": 63,
   "metadata": {},
   "outputs": [],
   "source": [
    "import pandas as pd\n",
    "import numpy as np\n",
    "import re\n",
    "from os import listdir"
   ]
  },
  {
   "cell_type": "code",
   "execution_count": 66,
   "metadata": {},
   "outputs": [
    {
     "data": {
      "text/html": [
       "<div>\n",
       "<style scoped>\n",
       "    .dataframe tbody tr th:only-of-type {\n",
       "        vertical-align: middle;\n",
       "    }\n",
       "\n",
       "    .dataframe tbody tr th {\n",
       "        vertical-align: top;\n",
       "    }\n",
       "\n",
       "    .dataframe thead th {\n",
       "        text-align: right;\n",
       "    }\n",
       "</style>\n",
       "<table border=\"1\" class=\"dataframe\">\n",
       "  <thead>\n",
       "    <tr style=\"text-align: right;\">\n",
       "      <th></th>\n",
       "      <th>date</th>\n",
       "      <th>udea.edu.co</th>\n",
       "      <th>chat.openai.com</th>\n",
       "      <th>tiktok.com</th>\n",
       "      <th>vm.tiktok.com</th>\n",
       "      <th>openai.com</th>\n",
       "      <th>google.com</th>\n",
       "      <th>instagram.com</th>\n",
       "    </tr>\n",
       "  </thead>\n",
       "  <tbody>\n",
       "    <tr>\n",
       "      <th>0</th>\n",
       "      <td>2022-10-28</td>\n",
       "      <td>2</td>\n",
       "      <td>0</td>\n",
       "      <td>2</td>\n",
       "      <td>2</td>\n",
       "      <td>0</td>\n",
       "      <td>12</td>\n",
       "      <td>0</td>\n",
       "    </tr>\n",
       "    <tr>\n",
       "      <th>1</th>\n",
       "      <td>2022-10-30</td>\n",
       "      <td>1</td>\n",
       "      <td>0</td>\n",
       "      <td>10</td>\n",
       "      <td>3</td>\n",
       "      <td>0</td>\n",
       "      <td>5</td>\n",
       "      <td>0</td>\n",
       "    </tr>\n",
       "  </tbody>\n",
       "</table>\n",
       "</div>"
      ],
      "text/plain": [
       "        date  udea.edu.co  chat.openai.com  tiktok.com  vm.tiktok.com  \\\n",
       "0 2022-10-28            2                0           2              2   \n",
       "1 2022-10-30            1                0          10              3   \n",
       "\n",
       "   openai.com  google.com  instagram.com  \n",
       "0           0          12              0  \n",
       "1           0           5              0  "
      ]
     },
     "execution_count": 66,
     "metadata": {},
     "output_type": "execute_result"
    }
   ],
   "source": [
    "data = pd.read_csv('D:/Estiven/Datos/Proyectos/statistics-of-use-project/data/processed/web_usage_count_motorola.csv',\n",
    "                   delimiter=';',\n",
    "                   parse_dates=['date'])\n",
    "data.head(2)"
   ]
  },
  {
   "cell_type": "markdown",
   "metadata": {},
   "source": [
    "Function to filter the dataframe based on the values we want"
   ]
  },
  {
   "cell_type": "code",
   "execution_count": 30,
   "metadata": {},
   "outputs": [],
   "source": [
    "def transform_dataframe(dataframe: pd.DataFrame, values_greater_than):\n",
    "    data_copy = dataframe.copy()\n",
    "\n",
    "    #packing the name of columns and sums in a dictionary to use in further codes\n",
    "    dictionary_sums = {}\n",
    "    for column in data_copy:\n",
    "        if (column != 'date') and \\\n",
    "           (sum(data_copy[column]) >= values_greater_than):\n",
    "            \n",
    "            dictionary_sums[column] = sum(data_copy[column])\n",
    "\n",
    "    names_of_columns_to_stay = [column_name for column_name in dictionary_sums.keys()]\n",
    "    names_of_columns_to_stay.insert(0, 'date')\n",
    "\n",
    "    #filtering dataframe\n",
    "    transformed_dataframe = data_copy[names_of_columns_to_stay]\n",
    "    \n",
    "    return transformed_dataframe"
   ]
  },
  {
   "cell_type": "markdown",
   "metadata": {},
   "source": [
    "# Transformation of the actual data"
   ]
  },
  {
   "cell_type": "code",
   "execution_count": 5,
   "metadata": {},
   "outputs": [
    {
     "data": {
      "text/plain": [
       "['.gitkeep',\n",
       " 'app_usage_count_motorola.csv',\n",
       " 'app_usage_time_motorola.csv',\n",
       " 'device_unlocks.csv',\n",
       " 'web_usage_count_chrome.csv',\n",
       " 'web_usage_count_edge.csv',\n",
       " 'web_usage_count_motorola.csv',\n",
       " 'web_usage_time_chrome.csv',\n",
       " 'web_usage_time_edge.csv',\n",
       " 'web_usage_time_motorola.csv']"
      ]
     },
     "execution_count": 5,
     "metadata": {},
     "output_type": "execute_result"
    }
   ],
   "source": [
    "path = \"D:/Estiven/Datos/Proyectos/statistics-of-use-project/data/processed\"\n",
    "dir_list = listdir(path)\n",
    "dir_list"
   ]
  },
  {
   "cell_type": "markdown",
   "metadata": {},
   "source": [
    "If you want to transform files with a specified word in it, replace it in the fist line of the code.\n",
    "- For \"count\" files, the delimiter should be changed to \";\"\n",
    "- For \"time\" files, the delimiter should be changed to \",\""
   ]
  },
  {
   "cell_type": "code",
   "execution_count": 77,
   "metadata": {},
   "outputs": [],
   "source": [
    "word_to_find = \"count\" # word in the name of the file that you want to search for\n",
    "for file in dir_list:\n",
    "    word_is_in = re.search(word_to_find, file)\n",
    "    if word_is_in:\n",
    "        file_path = f'D:/Estiven/Datos/Proyectos/statistics-of-use-project/data/processed/{file}'\n",
    "        data = pd.read_csv(file_path,\n",
    "                           delimiter=';',\n",
    "                           parse_dates=['date'])\n",
    "        \n",
    "        data_transformed = transform_dataframe(data, 100)\n",
    "        data_transformed = data_transformed.set_index('date')\n",
    "        data_transformed.sort_values(by='date', ascending=True, inplace=True)\n",
    "        data_transformed = data_transformed[~data_transformed.duplicated()]\n",
    "        data_transformed = data_transformed.reset_index()\n",
    "\n",
    "        export_path = f'D:/Estiven/Datos/Proyectos/statistics-of-use-project/data/processed/{file}'\n",
    "        data_transformed.to_csv(export_path, \n",
    "                                sep=';',\n",
    "                                index=None,\n",
    "                                date_format='%Y-%m-%d')"
   ]
  },
  {
   "cell_type": "markdown",
   "metadata": {},
   "source": [
    "Transformation to 'device_unlocks.csv' file"
   ]
  },
  {
   "cell_type": "code",
   "execution_count": 62,
   "metadata": {},
   "outputs": [
    {
     "name": "stderr",
     "output_type": "stream",
     "text": [
      "C:\\Users\\User\\AppData\\Local\\Temp\\ipykernel_12776\\77304124.py:2: UserWarning: Could not infer format, so each element will be parsed individually, falling back to `dateutil`. To ensure parsing is consistent and as-expected, please specify a format.\n",
      "  data = pd.read_csv(file_path,\n"
     ]
    }
   ],
   "source": [
    "file_path = f'D:/Estiven/Datos/Proyectos/statistics-of-use-project/data/processed/device_unlocks.csv'\n",
    "data = pd.read_csv(file_path,\n",
    "                   delimiter=';',\n",
    "                   parse_dates=['date'])\n",
    "\n",
    "export_path = f'D:/Estiven/Datos/Proyectos/statistics-of-use-project/data/processed/device_unlocks.csv'\n",
    "data.to_csv(export_path, \n",
    "                        sep=';',\n",
    "                        index=None,\n",
    "                        date_format='%Y-%m-%d')"
   ]
  }
 ],
 "metadata": {
  "kernelspec": {
   "display_name": "statistics_of_use_env",
   "language": "python",
   "name": "python3"
  },
  "language_info": {
   "codemirror_mode": {
    "name": "ipython",
    "version": 3
   },
   "file_extension": ".py",
   "mimetype": "text/x-python",
   "name": "python",
   "nbconvert_exporter": "python",
   "pygments_lexer": "ipython3",
   "version": "3.11.2"
  },
  "orig_nbformat": 4
 },
 "nbformat": 4,
 "nbformat_minor": 2
}
