{
 "cells": [
  {
   "cell_type": "code",
   "execution_count": 2,
   "metadata": {},
   "outputs": [],
   "source": [
    "import pandas as pd\n",
    "import numpy as np"
   ]
  },
  {
   "cell_type": "code",
   "execution_count": 10,
   "metadata": {},
   "outputs": [
    {
     "name": "stderr",
     "output_type": "stream",
     "text": [
      "C:\\Users\\User\\AppData\\Local\\Temp\\ipykernel_3376\\727039360.py:1: UserWarning: Could not infer format, so each element will be parsed individually, falling back to `dateutil`. To ensure parsing is consistent and as-expected, please specify a format.\n",
      "  data = pd.read_csv('D:/Estiven/Datos/Proyectos/statistics-of-use-project/data/processed/app_usage_count_motorola.csv',\n"
     ]
    },
    {
     "data": {
      "text/html": [
       "<div>\n",
       "<style scoped>\n",
       "    .dataframe tbody tr th:only-of-type {\n",
       "        vertical-align: middle;\n",
       "    }\n",
       "\n",
       "    .dataframe tbody tr th {\n",
       "        vertical-align: top;\n",
       "    }\n",
       "\n",
       "    .dataframe thead th {\n",
       "        text-align: right;\n",
       "    }\n",
       "</style>\n",
       "<table border=\"1\" class=\"dataframe\">\n",
       "  <thead>\n",
       "    <tr style=\"text-align: right;\">\n",
       "      <th></th>\n",
       "      <th>date</th>\n",
       "      <th>Amazon Shopping</th>\n",
       "      <th>Android System</th>\n",
       "      <th>Biblioapp UdeA</th>\n",
       "      <th>Bing</th>\n",
       "      <th>Calculator</th>\n",
       "      <th>Calculator_1</th>\n",
       "      <th>Calendar</th>\n",
       "      <th>Call Management</th>\n",
       "      <th>Camera</th>\n",
       "      <th>...</th>\n",
       "      <th>Twitch</th>\n",
       "      <th>Twitter</th>\n",
       "      <th>tyba</th>\n",
       "      <th>Upwork Talent</th>\n",
       "      <th>VpnDialogs</th>\n",
       "      <th>Wallpapers</th>\n",
       "      <th>WhatsApp</th>\n",
       "      <th>YouTube</th>\n",
       "      <th>YouTube Music</th>\n",
       "      <th>Zoom</th>\n",
       "    </tr>\n",
       "  </thead>\n",
       "  <tbody>\n",
       "    <tr>\n",
       "      <th>0</th>\n",
       "      <td>2022-10-27</td>\n",
       "      <td>0</td>\n",
       "      <td>1</td>\n",
       "      <td>0</td>\n",
       "      <td>0</td>\n",
       "      <td>19</td>\n",
       "      <td>0</td>\n",
       "      <td>1</td>\n",
       "      <td>0</td>\n",
       "      <td>0</td>\n",
       "      <td>...</td>\n",
       "      <td>0</td>\n",
       "      <td>0</td>\n",
       "      <td>0</td>\n",
       "      <td>0</td>\n",
       "      <td>0</td>\n",
       "      <td>0</td>\n",
       "      <td>71</td>\n",
       "      <td>12</td>\n",
       "      <td>0</td>\n",
       "      <td>0</td>\n",
       "    </tr>\n",
       "    <tr>\n",
       "      <th>1</th>\n",
       "      <td>2022-10-28</td>\n",
       "      <td>0</td>\n",
       "      <td>1</td>\n",
       "      <td>0</td>\n",
       "      <td>0</td>\n",
       "      <td>1</td>\n",
       "      <td>0</td>\n",
       "      <td>0</td>\n",
       "      <td>0</td>\n",
       "      <td>0</td>\n",
       "      <td>...</td>\n",
       "      <td>0</td>\n",
       "      <td>0</td>\n",
       "      <td>0</td>\n",
       "      <td>0</td>\n",
       "      <td>0</td>\n",
       "      <td>0</td>\n",
       "      <td>100</td>\n",
       "      <td>15</td>\n",
       "      <td>0</td>\n",
       "      <td>0</td>\n",
       "    </tr>\n",
       "  </tbody>\n",
       "</table>\n",
       "<p>2 rows × 147 columns</p>\n",
       "</div>"
      ],
      "text/plain": [
       "        date  Amazon Shopping  Android System  Biblioapp UdeA  Bing  \\\n",
       "0 2022-10-27                0               1               0     0   \n",
       "1 2022-10-28                0               1               0     0   \n",
       "\n",
       "   Calculator  Calculator_1  Calendar  Call Management  Camera  ...  Twitch  \\\n",
       "0          19             0         1                0       0  ...       0   \n",
       "1           1             0         0                0       0  ...       0   \n",
       "\n",
       "   Twitter  tyba  Upwork Talent  VpnDialogs  Wallpapers  WhatsApp  YouTube  \\\n",
       "0        0     0              0           0           0        71       12   \n",
       "1        0     0              0           0           0       100       15   \n",
       "\n",
       "   YouTube Music  Zoom  \n",
       "0              0     0  \n",
       "1              0     0  \n",
       "\n",
       "[2 rows x 147 columns]"
      ]
     },
     "execution_count": 10,
     "metadata": {},
     "output_type": "execute_result"
    }
   ],
   "source": [
    "data = pd.read_csv('D:/Estiven/Datos/Proyectos/statistics-of-use-project/data/processed/app_usage_count_motorola.csv',\n",
    "            delimiter=';', \n",
    "            parse_dates=['date'])\n",
    "data.head(2)"
   ]
  },
  {
   "cell_type": "code",
   "execution_count": null,
   "metadata": {},
   "outputs": [],
   "source": []
  }
 ],
 "metadata": {
  "kernelspec": {
   "display_name": "statistics_of_use_env",
   "language": "python",
   "name": "python3"
  },
  "language_info": {
   "codemirror_mode": {
    "name": "ipython",
    "version": 3
   },
   "file_extension": ".py",
   "mimetype": "text/x-python",
   "name": "python",
   "nbconvert_exporter": "python",
   "pygments_lexer": "ipython3",
   "version": "3.11.2"
  },
  "orig_nbformat": 4
 },
 "nbformat": 4,
 "nbformat_minor": 2
}
